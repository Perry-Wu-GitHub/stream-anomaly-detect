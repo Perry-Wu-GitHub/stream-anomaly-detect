{
 "cells": [
  {
   "cell_type": "markdown",
   "metadata": {},
   "source": [
    "# Streaming Anomaly Detection for the Cod-RNA dataset\n",
    "\n",
    "H. Huang and S. Kasiviswanathan, \"**Streaming Anomaly Detection Using Randomized Matrix Sketching**,\" http://bit.ly/1FaDw6S."
   ]
  },
  {
   "cell_type": "code",
   "execution_count": 1,
   "metadata": {
    "collapsed": true
   },
   "outputs": [],
   "source": [
    "import numpy as np\n",
    "import numpy.linalg as ln\n",
    "import pandas as pd\n",
    "import sklearn.metrics as met\n",
    "import sklearn.preprocessing as preprocessing\n",
    "\n",
    "import sys\n",
    "import time\n",
    "\n",
    "%matplotlib inline\n",
    "import matplotlib.pyplot as plt"
   ]
  },
  {
   "cell_type": "code",
   "execution_count": 2,
   "metadata": {
    "collapsed": false
   },
   "outputs": [],
   "source": [
    "%load_ext autoreload\n",
    "%autoreload 2\n",
    "\n",
    "from stream_anomaly_detector import GlobalUpdate, RandomizedSketchUpdate, SketchUpdate"
   ]
  },
  {
   "cell_type": "markdown",
   "metadata": {},
   "source": [
    "## Data preparation\n",
    "\n",
    "CodRNA dataset is available: https://www.csie.ntu.edu.tw/~cjlin/libsvmtools/datasets/binary.html"
   ]
  },
  {
   "cell_type": "code",
   "execution_count": 3,
   "metadata": {
    "collapsed": false
   },
   "outputs": [
    {
     "data": {
      "text/plain": [
       "((8, 488565), (488565,))"
      ]
     },
     "execution_count": 3,
     "metadata": {},
     "output_type": "execute_result"
    }
   ],
   "source": [
    "from os.path import expanduser\n",
    "\n",
    "def read_CodRNA(path):\n",
    "    \"\"\"\n",
    "    Read Cod-RNA dataset with given path\n",
    "    Data format:\n",
    "        label 1:xxx 2:xxx 3:xxx ... 8:xxx\n",
    "    \"\"\"\n",
    "    X = []\n",
    "    y = []\n",
    "\n",
    "    with open(expanduser(path)) as f:\n",
    "        lines = f.readlines()\n",
    "        for line in lines:\n",
    "            l = line.rstrip().split(' ')\n",
    "            y.append(int(l[0]))\n",
    "            x = []\n",
    "            for i in range(1, 9): # 8 features in total\n",
    "                x.append(float(l[i][2:]))\n",
    "            X.append(x)\n",
    "    \n",
    "    return np.asarray(X).T, np.asarray(y)\n",
    "\n",
    "# read all Cod-RNA dataset and merge them\n",
    "X_train, y_train = read_CodRNA('~/Dropbox/lab/data/cod-rna/cod-rna.train')\n",
    "X_valid, y_valid = read_CodRNA('~/Dropbox/lab/data/cod-rna/cod-rna.valid')\n",
    "X_unused, y_unused = read_CodRNA('~/Dropbox/lab/data/cod-rna/cod-rna.unused')\n",
    "\n",
    "X = np.hstack((X_train, X_valid, X_unused))\n",
    "y = np.hstack((y_train, y_valid, y_unused))\n",
    "\n",
    "# 1st feature is divided by 10 as the data source suggests\n",
    "X[0, :] /= 10\n",
    "\n",
    "X.shape, y.shape"
   ]
  },
  {
   "cell_type": "code",
   "execution_count": 4,
   "metadata": {
    "collapsed": false
   },
   "outputs": [
    {
     "data": {
      "text/plain": [
       "0.3333333333333333"
      ]
     },
     "execution_count": 4,
     "metadata": {},
     "output_type": "execute_result"
    }
   ],
   "source": [
    "# number of anomalies; 33.33% of 488565 samples\n",
    "np.where(y == 1)[0].size / y.size"
   ]
  },
  {
   "cell_type": "code",
   "execution_count": 5,
   "metadata": {
    "collapsed": false
   },
   "outputs": [
    {
     "data": {
      "text/plain": [
       "(8, 2000)"
      ]
     },
     "execution_count": 5,
     "metadata": {},
     "output_type": "execute_result"
    }
   ],
   "source": [
    "# training data is randomly sampled 2000 non-anomalies (label=-1)\n",
    "normal_indices = np.where(y == -1)[0]\n",
    "np.random.shuffle(normal_indices)\n",
    "train_indices = normal_indices[:2000]\n",
    "\n",
    "Y0 = X[:, train_indices]\n",
    "Y0.shape"
   ]
  },
  {
   "cell_type": "markdown",
   "metadata": {},
   "source": [
    "## Anomaly detection"
   ]
  },
  {
   "cell_type": "code",
   "execution_count": 6,
   "metadata": {
    "collapsed": true
   },
   "outputs": [],
   "source": [
    "def show_result(y_true, y_pred, y_score):\n",
    "    print('precision = %f' % met.precision_score(y_true, y_pred))\n",
    "    print('recall = %f' % met.recall_score(y_true, y_pred))\n",
    "    print('F1 = %f' % met.f1_score(y_true, y_pred))\n",
    "    \n",
    "    fpr, tpr, _ = met.roc_curve(y_true, y_score)\n",
    "\n",
    "    print('AUC = %f' % met.auc(fpr, tpr))\n",
    "\n",
    "    fig, ax = plt.subplots()\n",
    "    ax.plot(fpr, tpr, marker='o', mew=0., markersize=2.)\n",
    "    ax.plot([0, 1], [0, 1], 'k--')\n",
    "\n",
    "    ax.set_xlabel('FP')\n",
    "    ax.set_ylabel('TP')\n",
    "    ax.grid(True)\n",
    "\n",
    "    fig.set_size_inches((5.5, 3))\n",
    "    fig.patch.set_alpha(0.0)"
   ]
  },
  {
   "cell_type": "markdown",
   "metadata": {},
   "source": [
    "### Using prior knowledge (i.e. percentage of anomalies)"
   ]
  },
  {
   "cell_type": "code",
   "execution_count": 7,
   "metadata": {
    "collapsed": false
   },
   "outputs": [],
   "source": [
    "def experiment_p(Detector):\n",
    "    # initialize and train anomaly detector\n",
    "    # percentage of anomalies (0.33) is given as a prior knowledge\n",
    "    detector = Detector(Y0, criterion='p', criterion_v=0.33)\n",
    "    \n",
    "    # generate all test indices, and omit indices of training samples\n",
    "    indices = np.arange(y.size)\n",
    "    test_indices = np.setdiff1d(indices, train_indices)\n",
    "    np.random.shuffle(test_indices)\n",
    "    n_test = test_indices.size\n",
    "    \n",
    "    print('Test on %d samples:' % n_test)\n",
    "    \n",
    "    y_true = np.array([])\n",
    "    y_pred = np.array([])\n",
    "    y_score = np.array([])\n",
    "    \n",
    "    s_time = 0.\n",
    "    n = 0\n",
    "    \n",
    "    # number of data points in each timestep is set to 5000\n",
    "    head = 0\n",
    "    step = 5000\n",
    "    while head < n_test:\n",
    "        tail = head + step\n",
    "        \n",
    "        sys.stdout.write('\\rTime %3d: [%d, %d]' % (n + 1, head, tail - 1))\n",
    "        sys.stdout.flush()\n",
    "        \n",
    "        # save true labels\n",
    "        y_true = np.append(y_true, y[ test_indices[head:tail] ])\n",
    "        \n",
    "        # anomaly detection results\n",
    "        start = time.clock()\n",
    "        anomaly_indices, normal_indices, scores = detector.detect(X[:, test_indices[head:tail]])\n",
    "        s_time += (time.clock() - start)\n",
    "        \n",
    "        # probability that a sample is anomaly {0, 1}\n",
    "        tmp = np.zeros(anomaly_indices.size + normal_indices.size)\n",
    "        tmp[anomaly_indices] = 1.\n",
    "        y_pred = np.append(y_pred, tmp)\n",
    "        \n",
    "        # anomaly score directly corresponds to confidence of prediction\n",
    "        y_score = np.append(y_score, scores)\n",
    "        \n",
    "        n += 1\n",
    "        head = tail\n",
    "    \n",
    "    y_true = y_true.astype(int) # {-1, 1} in integer\n",
    "    \n",
    "    sys.stdout.write('\\rAvg. detect + update time per timestep = %f [sec]' % (s_time / n))\n",
    "    sys.stdout.flush()\n",
    "    \n",
    "    return y_true, y_pred, y_score"
   ]
  },
  {
   "cell_type": "markdown",
   "metadata": {},
   "source": [
    "#### Alg. 2: Global Update"
   ]
  },
  {
   "cell_type": "code",
   "execution_count": 8,
   "metadata": {
    "collapsed": false
   },
   "outputs": [
    {
     "name": "stdout",
     "output_type": "stream",
     "text": [
      "Test on 486565 samples:\n",
      "Avg. detect + update time per timestep = 0.004082 [sec]"
     ]
    }
   ],
   "source": [
    "global_res = experiment_p(GlobalUpdate)"
   ]
  },
  {
   "cell_type": "code",
   "execution_count": 9,
   "metadata": {
    "collapsed": false
   },
   "outputs": [
    {
     "name": "stdout",
     "output_type": "stream",
     "text": [
      "precision = 0.658371\n",
      "recall = 0.649117\n",
      "F1 = 0.653711\n",
      "AUC = 0.795871\n"
     ]
    },
    {
     "data": {
      "image/png": "[encoded data removed]",
      "text/plain": [
       "<matplotlib.figure.Figure at 0x107d7f8d0>"
      ]
     },
     "metadata": {},
     "output_type": "display_data"
    }
   ],
   "source": [
    "show_result(global_res[0], global_res[1], global_res[2])"
   ]
  },
  {
   "cell_type": "markdown",
   "metadata": {},
   "source": [
    "#### Alg. 3: Randmized Sketch Update"
   ]
  },
  {
   "cell_type": "code",
   "execution_count": 10,
   "metadata": {
    "collapsed": false
   },
   "outputs": [
    {
     "name": "stdout",
     "output_type": "stream",
     "text": [
      "Test on 486565 samples:\n",
      "Avg. detect + update time per timestep = 0.002970 [sec]"
     ]
    }
   ],
   "source": [
    "rand_res = experiment_p(RandomizedSketchUpdate)"
   ]
  },
  {
   "cell_type": "code",
   "execution_count": 11,
   "metadata": {
    "collapsed": false
   },
   "outputs": [
    {
     "name": "stdout",
     "output_type": "stream",
     "text": [
      "precision = 0.658813\n",
      "recall = 0.649553\n",
      "F1 = 0.654150\n",
      "AUC = 0.796320\n"
     ]
    },
    {
     "data": {
      "image/png": "[encoded data removed]",
      "text/plain": [
       "<matplotlib.figure.Figure at 0x112ddb860>"
      ]
     },
     "metadata": {},
     "output_type": "display_data"
    }
   ],
   "source": [
    "show_result(rand_res[0], rand_res[1], rand_res[2])"
   ]
  },
  {
   "cell_type": "markdown",
   "metadata": {},
   "source": [
    "#### Alg. 4: Sketch Update"
   ]
  },
  {
   "cell_type": "code",
   "execution_count": 12,
   "metadata": {
    "collapsed": false
   },
   "outputs": [
    {
     "name": "stdout",
     "output_type": "stream",
     "text": [
      "Test on 486565 samples:\n",
      "Avg. detect + update time per timestep = 0.003734 [sec]"
     ]
    }
   ],
   "source": [
    "sketch_res = experiment_p(SketchUpdate)"
   ]
  },
  {
   "cell_type": "code",
   "execution_count": 13,
   "metadata": {
    "collapsed": false
   },
   "outputs": [
    {
     "name": "stdout",
     "output_type": "stream",
     "text": [
      "precision = 0.658782\n",
      "recall = 0.649523\n",
      "F1 = 0.654120\n",
      "AUC = 0.796438\n"
     ]
    },
    {
     "data": {
      "image/png": "[encoded data removed]",
      "text/plain": [
       "<matplotlib.figure.Figure at 0x10e94b6d8>"
      ]
     },
     "metadata": {},
     "output_type": "display_data"
    }
   ],
   "source": [
    "show_result(sketch_res[0], sketch_res[1], sketch_res[2])"
   ]
  },
  {
   "cell_type": "code",
   "execution_count": null,
   "metadata": {
    "collapsed": true
   },
   "outputs": [],
   "source": []
  }
 ],
 "metadata": {
  "kernelspec": {
   "display_name": "Python 3",
   "language": "python",
   "name": "python3"
  },
  "language_info": {
   "codemirror_mode": {
    "name": "ipython",
    "version": 3
   },
   "file_extension": ".py",
   "mimetype": "text/x-python",
   "name": "python",
   "nbconvert_exporter": "python",
   "pygments_lexer": "ipython3",
   "version": "3.5.2"
  }
 },
 "nbformat": 4,
 "nbformat_minor": 0
}
